{
 "cells": [
  {
   "cell_type": "markdown",
   "metadata": {},
   "source": [
    "# Command Line Interface\n",
    "\n",
    "This notebook shows the **command line interface** of `yaml2sbml`, using the \"Lotka Volterra\" example. \n",
    "For details on \n",
    "* the definition of the `.yaml` file\n",
    "* simulation of the SBML model using AMICI (python) \n",
    "* fitting the PEtab problem using pyPESTO (python), \n",
    "\n",
    "see the [corresponding notebook](../Lotka_Volterra_python/Lotka_Volterra.ipynb)"
   ]
  },
  {
   "cell_type": "markdown",
   "metadata": {},
   "source": [
    "## SBML generation\n",
    "\n",
    "`yaml2sbml` generates an [**SBML**](http://sbml.org/Main_Page) via \n",
    "```shell\n",
    "yaml2sbml <yaml_input_file> <sbml_output_file>\n",
    "```"
   ]
  },
  {
   "cell_type": "code",
   "execution_count": 2,
   "metadata": {},
   "outputs": [
    {
     "name": "stdout",
     "output_type": "stream",
     "text": [
      "Path to yaml file: ../Lotka_Volterra_python/Lotka_Volterra_basic.yml\r\n",
      "Path to sbml file: Lotka_Volterra_basic.xml\r\n",
      "Converting...\r\n"
     ]
    }
   ],
   "source": [
    "!yaml2sbml ../Lotka_Volterra_python/Lotka_Volterra_basic.yml Lotka_Volterra_basic.xml "
   ]
  },
  {
   "cell_type": "markdown",
   "metadata": {},
   "source": [
    "## PEtab generation:\n",
    "\n",
    "The basic way of generating [**PEtab**](https://github.com/PEtab-dev/PEtab) tables is given by\n",
    "```shell\n",
    " yaml2petab <yaml_input_file> <petab_output_directory> <model_name>\n",
    "```"
   ]
  },
  {
   "cell_type": "code",
   "execution_count": 3,
   "metadata": {},
   "outputs": [],
   "source": [
    "# needed .yml /measurement files in current directory.\n",
    "!cp ../Lotka_Volterra_python/Lotka_Volterra_PEtab/measurement_table.tsv ./Lotka_Volterra_PEtab/\n",
    "!cp ../Lotka_Volterra_python/Lotka_Volterra_PEtab.yml ."
   ]
  },
  {
   "cell_type": "code",
   "execution_count": 4,
   "metadata": {},
   "outputs": [
    {
     "name": "stdout",
     "output_type": "stream",
     "text": [
      "Path to yaml file: Lotka_Volterra_PEtab.yml\n",
      "Output directory: ./Lotka_Volterra_PEtab\n",
      "Path to sbml/petab files: Lotka_Volterra\n",
      "Converting...\n",
      "/Users/jvanhoefer/Dokumente/PhD/Code/GitHub/yaml2sbml/yaml2sbml/yaml2sbml/yaml2sbml/yaml2sbml.py:437: UserWarning: Observables are not represented in the SBML and therefore only have an effect the output, when called via yaml2PEtab\n",
      "  warnings.warn('Observables are not represented in the SBML and therefore '\n",
      "/Users/jvanhoefer/Dokumente/PhD/Code/GitHub/yaml2sbml/yaml2sbml/yaml2sbml/yaml2sbml/yaml2sbml.py:456: UserWarning: Conditions are not represented in the SBML and therefore only have an effect the output, when called via yaml2PEtab\n",
      "  warnings.warn('Conditions are not represented in the SBML and therefore '\n"
     ]
    }
   ],
   "source": [
    "# This is the actual command\n",
    "!yaml2petab Lotka_Volterra_PEtab.yml ./Lotka_Volterra_PEtab Lotka_Volterra"
   ]
  },
  {
   "cell_type": "markdown",
   "metadata": {},
   "source": [
    "### Further Options: \n",
    "Two further optional arguments to the `yaml2petab` command allow to create a _PEtab yaml_ file and a measurement table. A PEtab yaml allows for a easier input of a PEtab problem to some toolboxes:\n",
    "* In the directory , given by `--petab_yaml`, a yaml file, that groups the PEtab problem, will be created.\n",
    "* `--measurement_table` allows to specify the measurement table. This option is only possible in combination with `--petab_yaml`."
   ]
  },
  {
   "cell_type": "code",
   "execution_count": 5,
   "metadata": {},
   "outputs": [
    {
     "name": "stdout",
     "output_type": "stream",
     "text": [
      "Path to yaml file: Lotka_Volterra_PEtab.yml\n",
      "Output directory: ./Lotka_Volterra_PEtab\n",
      "Path to sbml/petab files: Lotka_Volterra\n",
      "Converting...\n",
      "/Users/jvanhoefer/Dokumente/PhD/Code/GitHub/yaml2sbml/yaml2sbml/yaml2sbml/yaml2sbml/yaml2sbml.py:437: UserWarning: Observables are not represented in the SBML and therefore only have an effect the output, when called via yaml2PEtab\n",
      "  warnings.warn('Observables are not represented in the SBML and therefore '\n",
      "/Users/jvanhoefer/Dokumente/PhD/Code/GitHub/yaml2sbml/yaml2sbml/yaml2sbml/yaml2sbml/yaml2sbml.py:456: UserWarning: Conditions are not represented in the SBML and therefore only have an effect the output, when called via yaml2PEtab\n",
      "  warnings.warn('Conditions are not represented in the SBML and therefore '\n"
     ]
    }
   ],
   "source": [
    "# now generate the PEtab table:\n",
    "!yaml2petab Lotka_Volterra_PEtab.yml ./Lotka_Volterra_PEtab Lotka_Volterra --petab_yaml problem.yml --measurement_table measurement_table.tsv "
   ]
  },
  {
   "cell_type": "markdown",
   "metadata": {},
   "source": [
    "## Checking the PEtab files\n",
    "\n",
    "Finally, PEtab offers a PEtab-linter (no output = no error found). (This is a feature of the PEtab python library, not of yaml2sbml.)"
   ]
  },
  {
   "cell_type": "code",
   "execution_count": 6,
   "metadata": {},
   "outputs": [
    {
     "name": "stdout",
     "output_type": "stream",
     "text": [
      "Traceback (most recent call last):\r\n",
      "\u001b[0m  File \"/Users/jvanhoefer/Library/Python/3.7/bin/petablint\", line 8, in <module>\r\n",
      "\u001b[0m    \u001b[0msys.exit(main())\u001b[0m\r\n",
      "\u001b[0m  File \"/Users/jvanhoefer/Library/Python/3.7/lib/python/site-packages/petab/petablint.py\", line 125, in main\r\n",
      "\u001b[0m    \u001b[0mvalidate(args.yaml_file_name)\u001b[0m\r\n",
      "\u001b[0m  File \"/Users/jvanhoefer/Library/Python/3.7/lib/python/site-packages/petab/yaml.py\", line 29, in validate\r\n",
      "\u001b[0m    \u001b[0mvalidate_yaml_syntax(yaml_config)\u001b[0m\r\n",
      "\u001b[0m  File \"/Users/jvanhoefer/Library/Python/3.7/lib/python/site-packages/petab/yaml.py\", line 53, in validate_yaml_syntax\r\n",
      "\u001b[0m    \u001b[0myaml_config = load_yaml(yaml_config)\u001b[0m\r\n",
      "\u001b[0m  File \"/Users/jvanhoefer/Library/Python/3.7/lib/python/site-packages/petab/yaml.py\", line 126, in load_yaml\r\n",
      "\u001b[0m    \u001b[0mhandle = get_handle(yaml_config, mode='r').handle\u001b[0m\r\n",
      "\u001b[0m  File \"/Users/jvanhoefer/Library/Python/3.7/lib/python/site-packages/pandas/io/common.py\", line 644, in get_handle\r\n",
      "\u001b[0m    \u001b[0mnewline=\"\",\u001b[0m\r\n",
      "\u001b[0mFileNotFoundError\u001b[0m: \u001b[0m[Errno 2] No such file or directory: 'Lotka_Volterra_PEtab/petab_problem.yml'\u001b[0m\r\n",
      "\u001b[0m\u001b[0m"
     ]
    }
   ],
   "source": [
    "!petablint -vy Lotka_Volterra_PEtab/petab_problem.yml"
   ]
  },
  {
   "cell_type": "code",
   "execution_count": null,
   "metadata": {},
   "outputs": [],
   "source": []
  }
 ],
 "metadata": {
  "kernelspec": {
   "display_name": "Python 3",
   "language": "python",
   "name": "python3"
  },
  "language_info": {
   "codemirror_mode": {
    "name": "ipython",
    "version": 3
   },
   "file_extension": ".py",
   "mimetype": "text/x-python",
   "name": "python",
   "nbconvert_exporter": "python",
   "pygments_lexer": "ipython3",
   "version": "3.7.1"
  }
 },
 "nbformat": 4,
 "nbformat_minor": 2
}

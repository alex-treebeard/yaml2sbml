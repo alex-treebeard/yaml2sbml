{
 "cells": [
  {
   "cell_type": "markdown",
   "metadata": {},
   "source": [
    "# Command Line Interface\n",
    "\n",
    "This notebook shows the **command line interface** of `yaml2sbml`, using the Lotka Volterra example. \n",
    "For details on \n",
    "* the definition of the `.yaml` file\n",
    "* simulation of the SBML model using AMICI (python) \n",
    "* fitting the PEtab problem using pyPESTO (python), \n",
    "\n",
    "see the [corresponding notebook](../Lotka_Volterra_python/Lotka_Volterra.ipynb)"
   ]
  },
  {
   "cell_type": "markdown",
   "metadata": {},
   "source": [
    "## SBML generation\n",
    "\n",
    "`yaml2sbml` generates an [**SBML**](http://sbml.org/Main_Page) via \n",
    "```shell\n",
    "yaml2sbml <yaml_input_file> <sbml_output_file>\n",
    "```"
   ]
  },
  {
   "cell_type": "code",
   "execution_count": 1,
   "metadata": {},
   "outputs": [
    {
     "name": "stdout",
     "output_type": "stream",
     "text": [
      "Path to yaml file: ../Lotka_Volterra_python/Lotka_Volterra_basic.yml\r\n",
      "Path to sbml file: Lotka_Volterra_basic.xml\r\n",
      "Converting...\r\n"
     ]
    }
   ],
   "source": [
    "!yaml2sbml ../Lotka_Volterra_python/Lotka_Volterra_basic.yml Lotka_Volterra_basic.xml "
   ]
  },
  {
   "cell_type": "markdown",
   "metadata": {},
   "source": [
    "## PEtab generation:\n",
    "\n",
    "The basic way of generating [**PEtab**](https://github.com/PEtab-dev/PEtab) tables is given by\n",
    "```shell\n",
    " yaml2petab <yaml_input_file> <petab_output_directory> <model_name>\n",
    "```"
   ]
  },
  {
   "cell_type": "code",
   "execution_count": 2,
   "metadata": {},
   "outputs": [],
   "source": [
    "# needed .yml /measurement files in current directory.\n",
    "!cp ../Lotka_Volterra_python/Lotka_Volterra_PEtab/measurement_table.tsv ./Lotka_Volterra_PEtab/\n",
    "!cp ../Lotka_Volterra_python/Lotka_Volterra_PEtab.yml ."
   ]
  },
  {
   "cell_type": "code",
   "execution_count": 3,
   "metadata": {},
   "outputs": [
    {
     "name": "stdout",
     "output_type": "stream",
     "text": [
      "Path to yaml file: Lotka_Volterra_PEtab.yml\r\n",
      "Output directory: ./Lotka_Volterra_PEtab\r\n",
      "Path to sbml/petab files: Lotka_Volterra\r\n",
      "Converting...\r\n",
      "/Users/jvanhoefer/Dokumente/PhD/Code/GitHub/yaml2sbml/yaml2sbml/yaml2sbml/yaml2sbml/yaml2sbml.py:417: UserWarning: Observables are not represented in the SBML and therefore only have an effect the output, when called via yaml2PEtab\r\n",
      "  warnings.warn('Observables are not represented in the SBML and therefore '\r\n",
      "/Users/jvanhoefer/Dokumente/PhD/Code/GitHub/yaml2sbml/yaml2sbml/yaml2sbml/yaml2sbml/yaml2sbml.py:436: UserWarning: Conditions are not represented in the SBML and therefore only have an effect the output, when called via yaml2PEtab\r\n",
      "  warnings.warn('Conditions are not represented in the SBML and therefore '\r\n"
     ]
    }
   ],
   "source": [
    "# This is the actual command\n",
    "!yaml2petab Lotka_Volterra_PEtab.yml ./Lotka_Volterra_PEtab Lotka_Volterra"
   ]
  },
  {
   "cell_type": "markdown",
   "metadata": {},
   "source": [
    "### Further Options: \n",
    "Two further optional arguments to the `yaml2petab` command allow to create a _PEtab yaml_ file and a measurement table. A PEtab yaml allows for a easier input of a PEtab problem to some toolboxes:\n",
    "* In the directory , given by `--petab_yaml`, a yaml file, that groups the PEtab problem, will be created.\n",
    "* `--measurement_table` allows to specify the measurement table. This option is only possible in combination with `--petab_yaml`."
   ]
  },
  {
   "cell_type": "code",
   "execution_count": 4,
   "metadata": {},
   "outputs": [
    {
     "name": "stdout",
     "output_type": "stream",
     "text": [
      "Path to yaml file: Lotka_Volterra_PEtab.yml\n",
      "Output directory: ./Lotka_Volterra_PEtab\n",
      "Path to sbml/petab files: Lotka_Volterra\n",
      "Converting...\n",
      "/Users/jvanhoefer/Dokumente/PhD/Code/GitHub/yaml2sbml/yaml2sbml/yaml2sbml/yaml2sbml/yaml2sbml.py:417: UserWarning: Observables are not represented in the SBML and therefore only have an effect the output, when called via yaml2PEtab\n",
      "  warnings.warn('Observables are not represented in the SBML and therefore '\n",
      "/Users/jvanhoefer/Dokumente/PhD/Code/GitHub/yaml2sbml/yaml2sbml/yaml2sbml/yaml2sbml/yaml2sbml.py:436: UserWarning: Conditions are not represented in the SBML and therefore only have an effect the output, when called via yaml2PEtab\n",
      "  warnings.warn('Conditions are not represented in the SBML and therefore '\n"
     ]
    }
   ],
   "source": [
    "# now generate the PEtab table:\n",
    "!yaml2petab Lotka_Volterra_PEtab.yml ./Lotka_Volterra_PEtab Lotka_Volterra --petab_yaml problem.yml --measurement_table measurement_table.tsv "
   ]
  },
  {
   "cell_type": "markdown",
   "metadata": {},
   "source": [
    "## Checking the PEtab files\n",
    "\n",
    "Finally, PEtab offers a PEtab-linter (no output = no error found). (This is a feature of the PEtab python library, not of yaml2sbml.)"
   ]
  },
  {
   "cell_type": "code",
   "execution_count": 5,
   "metadata": {},
   "outputs": [
    {
     "name": "stdout",
     "output_type": "stream",
     "text": [
      "\u001b[0m"
     ]
    }
   ],
   "source": [
    "!petablint -y Lotka_Volterra_PEtab/petab_problem.yml"
   ]
  },
  {
   "cell_type": "code",
   "execution_count": null,
   "metadata": {},
   "outputs": [],
   "source": []
  }
 ],
 "metadata": {
  "kernelspec": {
   "display_name": "Python 3",
   "language": "python",
   "name": "python3"
  },
  "language_info": {
   "codemirror_mode": {
    "name": "ipython",
    "version": 3
   },
   "file_extension": ".py",
   "mimetype": "text/x-python",
   "name": "python",
   "nbconvert_exporter": "python",
   "pygments_lexer": "ipython3",
   "version": "3.7.1"
  }
 },
 "nbformat": 4,
 "nbformat_minor": 2
}
